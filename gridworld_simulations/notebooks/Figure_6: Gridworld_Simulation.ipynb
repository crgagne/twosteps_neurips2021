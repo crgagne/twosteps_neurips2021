{
 "cells": [
  {
   "cell_type": "markdown",
   "metadata": {},
   "source": [
    "## Imports"
   ]
  },
  {
   "cell_type": "code",
   "execution_count": 1,
   "metadata": {},
   "outputs": [],
   "source": [
    "import numpy as np\n",
    "import scipy.stats\n",
    "from scipy.stats import norm, truncnorm,binom\n",
    "from scipy.io import loadmat\n",
    "\n",
    "import pickle\n",
    "import imp\n",
    "import sys\n",
    "\n",
    "sys.path.append('../code/')\n",
    "\n",
    "import matplotlib.pyplot as plt\n",
    "import seaborn as sns\n",
    "import matplotlib\n",
    "\n",
    "%matplotlib inline"
   ]
  },
  {
   "cell_type": "code",
   "execution_count": 2,
   "metadata": {},
   "outputs": [],
   "source": [
    "# gridworld simulation code \n",
    "import task_gridworld\n",
    "imp.reload(task_gridworld)\n",
    "from task_gridworld import Task_GridWorld\n",
    "\n",
    "import task_utils\n",
    "imp.reload(task_utils)\n",
    "from task_utils import idcs2state,state2idcs,action_str_to_num"
   ]
  },
  {
   "cell_type": "code",
   "execution_count": 3,
   "metadata": {},
   "outputs": [],
   "source": [
    "# code for calculating cvar-optimal policies (and values)\n",
    "import dp\n",
    "imp.reload(dp)\n",
    "from dp import CVaR_DP"
   ]
  },
  {
   "cell_type": "code",
   "execution_count": 4,
   "metadata": {},
   "outputs": [],
   "source": [
    "# code for evaluating policies (i.e. generating behavioral trajectories) in the gridworld\n",
    "import mcmc_eval\n",
    "imp.reload(mcmc_eval)\n",
    "from mcmc_eval import run_simulation, calc_V_CVaR_MCMC"
   ]
  },
  {
   "cell_type": "code",
   "execution_count": 5,
   "metadata": {},
   "outputs": [],
   "source": [
    "# plotting code \n",
    "import plotting\n",
    "imp.reload(plotting)\n",
    "from plotting import plot_policy"
   ]
  },
  {
   "cell_type": "markdown",
   "metadata": {},
   "source": [
    "## (Panel a) Plotting Random Policy"
   ]
  },
  {
   "cell_type": "code",
   "execution_count": 6,
   "metadata": {},
   "outputs": [],
   "source": [
    "# instantiate task \n",
    "task = Task_GridWorld()"
   ]
  },
  {
   "cell_type": "code",
   "execution_count": 7,
   "metadata": {},
   "outputs": [],
   "source": [
    "Pol = np.ones((12,2))*0.5\n",
    "V = np.zeros(12)\n",
    "core_states =  [0,1,2,3,4,5,6,7,8,9,10,11]"
   ]
  },
  {
   "cell_type": "code",
   "execution_count": 8,
   "metadata": {},
   "outputs": [
    {
     "data": {
      "image/png": "[encoded data removed]",
      "text/plain": [
       "<Figure size 1200x800 with 1 Axes>"
      ]
     },
     "metadata": {},
     "output_type": "display_data"
    }
   ],
   "source": [
    "plot_policy(task,V,Pol,core_states,Alpha=None,asym_color=False,ms=20)"
   ]
  },
  {
   "cell_type": "markdown",
   "metadata": {},
   "source": [
    "## (Panel b): Optimal Policies"
   ]
  },
  {
   "cell_type": "markdown",
   "metadata": {},
   "source": [
    "### Some shared parameters"
   ]
  },
  {
   "cell_type": "code",
   "execution_count": 24,
   "metadata": {},
   "outputs": [],
   "source": [
    "# interpolation values for alpha \n",
    "alpha_set = np.array([0.        , 0.01      , 0.01274275, 0.01623777, 0.02069138,\n",
    "       0.02636651, 0.03359818, 0.04281332, 0.05455595, 0.06951928,\n",
    "       0.08858668, 0.11288379, 0.14384499, 0.18329807, 0.23357215,\n",
    "       0.29763514, 0.37926902, 0.48329302, 0.61584821, 0.78475997,\n",
    "       1.        ])\n",
    "\n",
    "# planning horizon \n",
    "T = 40"
   ]
  },
  {
   "cell_type": "markdown",
   "metadata": {},
   "source": [
    "### PCVaR"
   ]
  },
  {
   "cell_type": "markdown",
   "metadata": {},
   "source": [
    "#### Calculate Optimal Policy"
   ]
  },
  {
   "cell_type": "code",
   "execution_count": 25,
   "metadata": {},
   "outputs": [],
   "source": [
    "# instantiate task \n",
    "task = Task_GridWorld()"
   ]
  },
  {
   "cell_type": "code",
   "execution_count": 26,
   "metadata": {
    "scrolled": true
   },
   "outputs": [
    {
     "name": "stdout",
     "output_type": "stream",
     "text": [
      "t=39\n",
      "t=38\n",
      "t=37\n",
      "t=36\n",
      "t=35\n",
      "t=34\n",
      "t=33\n",
      "t=32\n",
      "t=31\n",
      "t=30\n",
      "t=29\n",
      "t=28\n",
      "t=27\n",
      "t=26\n",
      "t=25\n",
      "t=24\n",
      "t=23\n",
      "t=22\n",
      "t=21\n",
      "t=20\n",
      "t=19\n",
      "t=18\n",
      "t=17\n",
      "t=16\n",
      "t=15\n",
      "t=14\n",
      "t=13\n",
      "t=12\n",
      "t=11\n",
      "t=10\n",
      "t=9\n",
      "t=8\n",
      "t=7\n",
      "t=6\n",
      "t=5\n",
      "t=4\n",
      "t=3\n",
      "t=2\n",
      "t=1\n",
      "t=0\n"
     ]
    }
   ],
   "source": [
    "# calculate optimal policy (working backwards from last timestep)\n",
    "results = CVaR_DP(task,\n",
    "                  T= T,\n",
    "                  alpha_set = alpha_set,\n",
    "                  cvar_type='pCVaR',\n",
    "                  parallel=True)"
   ]
  },
  {
   "cell_type": "markdown",
   "metadata": {},
   "source": [
    "#### Filename"
   ]
  },
  {
   "cell_type": "code",
   "execution_count": 70,
   "metadata": {},
   "outputs": [
    {
     "name": "stdout",
     "output_type": "stream",
     "text": [
      "../results/task_gridworld_pCVaR_T=40_21_alphaset.npz\n"
     ]
    }
   ],
   "source": [
    "savename= '../results/task_gridworld_pCVaR_T='+str(T)+'_21_alphaset.npz'\n",
    "print(savename)"
   ]
  },
  {
   "cell_type": "markdown",
   "metadata": {},
   "source": [
    "#### Save"
   ]
  },
  {
   "cell_type": "code",
   "execution_count": 71,
   "metadata": {},
   "outputs": [],
   "source": [
    "np.savez_compressed(savename,results=results,allow_pickle=True)"
   ]
  },
  {
   "cell_type": "markdown",
   "metadata": {},
   "source": [
    "#### Load"
   ]
  },
  {
   "cell_type": "code",
   "execution_count": 72,
   "metadata": {},
   "outputs": [],
   "source": [
    "loaded = np.load(savename,allow_pickle=True)\n",
    "results = loaded['results'].tolist()"
   ]
  },
  {
   "cell_type": "code",
   "execution_count": 73,
   "metadata": {},
   "outputs": [],
   "source": [
    "policy_to_evaluate = results['pi'].copy()"
   ]
  },
  {
   "cell_type": "markdown",
   "metadata": {},
   "source": [
    "#### Sample Trajectories from Optimal Policy"
   ]
  },
  {
   "cell_type": "code",
   "execution_count": 67,
   "metadata": {},
   "outputs": [],
   "source": [
    "s0 = 0\n",
    "Nsims=20000\n",
    "Nsims=5000 # takes less time and space\n",
    "alpha0 = 0.18329807 # which alpha to start with for pCVaR\n",
    "\n",
    "# get alpha indicator \n",
    "alpha0_i = np.where(alpha_set==alpha0)[0][0]\n",
    "\n",
    "# run the MCMC for the changing policy \n",
    "results_mcmc = run_simulation(task,\n",
    "                               results['pi'].copy(),  # must be states x actions x alphas x time-steps\n",
    "                               T=T,\n",
    "                               Nsims = Nsims,\n",
    "                               s0 = s0,\n",
    "                               alpha_i0= alpha0_i,\n",
    "                               alpha_set = alpha_set,\n",
    "                               Xis=results['Xis'],\n",
    "                               adjust_alpha=True, # important for pCVaR\n",
    "                              )  "
   ]
  },
  {
   "cell_type": "markdown",
   "metadata": {},
   "source": [
    "#### Save Trajectories"
   ]
  },
  {
   "cell_type": "code",
   "execution_count": 68,
   "metadata": {},
   "outputs": [
    {
     "name": "stdout",
     "output_type": "stream",
     "text": [
      "../results/task_gridworld_pCVaR_T=40_21_alphaset.npz\n"
     ]
    }
   ],
   "source": [
    "savename_mcmc = savename.replace('.p','_mcmc.p')\n",
    "print(savename_mcmc)"
   ]
  },
  {
   "cell_type": "code",
   "execution_count": 69,
   "metadata": {},
   "outputs": [],
   "source": [
    "# save \n",
    "pickle.dump(results_mcmc, \n",
    "            open(savename_mcmc, \"wb\" ) )"
   ]
  },
  {
   "cell_type": "markdown",
   "metadata": {},
   "source": [
    "#### Load Trajectories"
   ]
  },
  {
   "cell_type": "code",
   "execution_count": 19,
   "metadata": {},
   "outputs": [],
   "source": [
    "results_mcmc = pickle.load( open(savename_mcmc, \"rb\" ) )"
   ]
  },
  {
   "cell_type": "markdown",
   "metadata": {},
   "source": [
    "#### Count the actions taken in each state during the simulated trajectories\n",
    "\n",
    "This is only important for pCVaR because of the changing alpha levels"
   ]
  },
  {
   "cell_type": "code",
   "execution_count": 20,
   "metadata": {},
   "outputs": [],
   "source": [
    "core_states =  [0,1,2,3,4,5,6,7,8,9,10,11]\n",
    "Pol_Dyn = np.zeros((len(core_states),2))\n",
    "Alpha_Dyn = np.zeros((len(core_states),1))\n",
    "Alpha_Dyn_std = np.zeros((len(core_states),1))\n",
    "for s in core_states:\n",
    "    \n",
    "    # get the actions that were taken in each state\n",
    "    actions = results_mcmc['actions'][results_mcmc['states']==s]\n",
    "    \n",
    "    # print the state if the agent took a different action (this should not occur)\n",
    "    if len(np.unique(actions))>1:\n",
    "        print('s')\n",
    "        \n",
    "    # get the mean probability of action in each case\n",
    "    # (will be 1 if there is only 1 action taken)\n",
    "    p = actions.mean()\n",
    "    Pol_Dyn[s,1]=p\n",
    "    Pol_Dyn[s,0]=1-p\n",
    "    \n",
    "    # calculated the mean of the alpha values visited in those states\n",
    "    Alpha_Dyn[s]= results_mcmc['alphas'][results_mcmc['states']==s].mean()\n",
    "    Alpha_Dyn_std[s]= results_mcmc['alphas'][results_mcmc['states']==s].std()"
   ]
  },
  {
   "cell_type": "markdown",
   "metadata": {},
   "source": [
    "#### Printing value function and adjusted alphas"
   ]
  },
  {
   "cell_type": "code",
   "execution_count": 21,
   "metadata": {},
   "outputs": [
    {
     "data": {
      "text/plain": [
       "array([[  1.9707,   2.5351,   2.8038,   2.9482],\n",
       "       [ -2.1152,  -0.4714,   1.1793,   2.3622],\n",
       "       [ -4.8369,  -7.5794, -10.2358,  -4.8561]])"
      ]
     },
     "execution_count": 21,
     "metadata": {},
     "output_type": "execute_result"
    }
   ],
   "source": [
    "# display the value function \n",
    "alpha_idx=np.where(alpha_set==alpha0)[0][0]\n",
    "t = 0\n",
    "V = results['V_CVaR'][core_states,alpha_idx,t]\n",
    "V.reshape(task.maze.shape,order='C')"
   ]
  },
  {
   "cell_type": "code",
   "execution_count": 22,
   "metadata": {},
   "outputs": [
    {
     "data": {
      "text/plain": [
       "array([[0.18329807, 0.11288379, 0.06951928, 0.01      ],\n",
       "       [0.78475997, 0.69455578, 0.72391972, 0.57295041],\n",
       "       [1.        , 0.9265034 , 0.79135502, 0.76067144]])"
      ]
     },
     "execution_count": 22,
     "metadata": {},
     "output_type": "execute_result"
    }
   ],
   "source": [
    "# display the adjusted alphas in each state (mean across simulations)\n",
    "Alpha_Dyn.reshape(task.maze.shape,order='C')"
   ]
  },
  {
   "cell_type": "markdown",
   "metadata": {},
   "source": [
    "#### Figure 6: Plotting policy (and alphas)"
   ]
  },
  {
   "cell_type": "code",
   "execution_count": 23,
   "metadata": {},
   "outputs": [
    {
     "data": {
      "image/png": "[encoded data removed]",
      "text/plain": [
       "<Figure size 1200x800 with 1 Axes>"
      ]
     },
     "metadata": {},
     "output_type": "display_data"
    }
   ],
   "source": [
    "plot_policy(task,V,Pol_Dyn,core_states,Alpha=Alpha_Dyn)"
   ]
  },
  {
   "cell_type": "code",
   "execution_count": 24,
   "metadata": {},
   "outputs": [
    {
     "data": {
      "image/png": "[encoded data removed]",
      "text/plain": [
       "<Figure size 1200x800 with 1 Axes>"
      ]
     },
     "metadata": {},
     "output_type": "display_data"
    }
   ],
   "source": [
    "# bigger font for talk  \n",
    "plot_policy(task,V,Pol_Dyn,core_states,Alpha=Alpha_Dyn,alpha_fontsize=12)"
   ]
  },
  {
   "cell_type": "markdown",
   "metadata": {},
   "source": [
    "### fCVaR"
   ]
  },
  {
   "cell_type": "code",
   "execution_count": 42,
   "metadata": {},
   "outputs": [],
   "source": [
    "# starting alpha \n",
    "alpha0 =  0.18329807"
   ]
  },
  {
   "cell_type": "markdown",
   "metadata": {},
   "source": [
    "#### Calculate Optimal Policy"
   ]
  },
  {
   "cell_type": "code",
   "execution_count": 26,
   "metadata": {
    "scrolled": true
   },
   "outputs": [
    {
     "name": "stdout",
     "output_type": "stream",
     "text": [
      "t=39\n",
      "t=38\n",
      "t=37\n",
      "t=36\n",
      "t=35\n",
      "t=34\n",
      "t=33\n",
      "t=32\n",
      "t=31\n",
      "t=30\n",
      "t=29\n",
      "t=28\n",
      "t=27\n",
      "t=26\n",
      "t=25\n",
      "t=24\n",
      "t=23\n",
      "t=22\n",
      "t=21\n",
      "t=20\n",
      "t=19\n",
      "t=18\n",
      "t=17\n",
      "t=16\n",
      "t=15\n",
      "t=14\n",
      "t=13\n",
      "t=12\n",
      "t=11\n",
      "t=10\n",
      "t=9\n",
      "t=8\n",
      "t=7\n",
      "t=6\n",
      "t=5\n",
      "t=4\n",
      "t=3\n",
      "t=2\n",
      "t=1\n",
      "t=0\n"
     ]
    }
   ],
   "source": [
    "task = Task_GridWorld()\n",
    "\n",
    "results = CVaR_DP(task,\n",
    "                    T=T,\n",
    "                    alpha_set = alpha_set,\n",
    "                    alpha0=alpha0,\n",
    "                    cvar_type='fCVaR',\n",
    "                    parallel=True)"
   ]
  },
  {
   "cell_type": "markdown",
   "metadata": {},
   "source": [
    "#### Filename"
   ]
  },
  {
   "cell_type": "code",
   "execution_count": 105,
   "metadata": {},
   "outputs": [
    {
     "name": "stdout",
     "output_type": "stream",
     "text": [
      "../results/task_gridworld_fCVaR_T=40_21_alphaset0.18.p\n"
     ]
    }
   ],
   "source": [
    "savename= '../results/task_gridworld_fCVaR_T='+str(T)+'_21_alphaset'+str(np.round(alpha0,2))+'.p'\n",
    "print(savename)"
   ]
  },
  {
   "cell_type": "markdown",
   "metadata": {},
   "source": [
    "#### Remove distortion weights to save space"
   ]
  },
  {
   "cell_type": "code",
   "execution_count": null,
   "metadata": {},
   "outputs": [],
   "source": [
    "results.pop('Xis');"
   ]
  },
  {
   "cell_type": "markdown",
   "metadata": {},
   "source": [
    "#### Save"
   ]
  },
  {
   "cell_type": "code",
   "execution_count": 108,
   "metadata": {},
   "outputs": [],
   "source": [
    "pickle.dump(results, \n",
    "            open(savename, \"wb\" ) )"
   ]
  },
  {
   "cell_type": "markdown",
   "metadata": {},
   "source": [
    "#### Load"
   ]
  },
  {
   "cell_type": "code",
   "execution_count": 106,
   "metadata": {},
   "outputs": [],
   "source": [
    "results = pickle.load( open(savename, \"rb\" ) )"
   ]
  },
  {
   "cell_type": "markdown",
   "metadata": {},
   "source": [
    "#### Sample Trajectories from Optimal Policy"
   ]
  },
  {
   "cell_type": "code",
   "execution_count": 56,
   "metadata": {},
   "outputs": [
    {
     "name": "stdout",
     "output_type": "stream",
     "text": [
      "0.18329807\n"
     ]
    }
   ],
   "source": [
    "s0 = 0\n",
    "Nsims=20000\n",
    "Nsims=5000\n",
    "\n",
    "# get alpha indicator \n",
    "alpha0_i = np.where(alpha_set==alpha0)[0][0]\n",
    "print(alpha_set[alpha0_i])\n",
    "\n",
    "# run the MCMC for the changing policy \n",
    "results_mcmc = run_simulation(task,\n",
    "                               results['pi'].copy(),  # must be states x actions x alphas x time-steps\n",
    "                               T=T,\n",
    "                               Nsims = Nsims,\n",
    "                               s0 = s0,\n",
    "                               alpha_i0= alpha0_i,\n",
    "                               alpha_set = alpha_set,\n",
    "                               Xis=None,\n",
    "                               adjust_alpha=False)  "
   ]
  },
  {
   "cell_type": "markdown",
   "metadata": {},
   "source": [
    "#### Save Trajectories"
   ]
  },
  {
   "cell_type": "code",
   "execution_count": 57,
   "metadata": {},
   "outputs": [
    {
     "name": "stdout",
     "output_type": "stream",
     "text": [
      "../results/task_gridworld_fCVaR_T=40_21_alphaset0.18_mcmc.p\n"
     ]
    }
   ],
   "source": [
    "savename_mcmc = savename.replace('.p','_mcmc.p')\n",
    "print(savename_mcmc)"
   ]
  },
  {
   "cell_type": "code",
   "execution_count": 58,
   "metadata": {},
   "outputs": [],
   "source": [
    "# save \n",
    "pickle.dump(results_mcmc, \n",
    "            open(savename_mcmc, \"wb\" ) )"
   ]
  },
  {
   "cell_type": "markdown",
   "metadata": {},
   "source": [
    "#### Load Trajectories"
   ]
  },
  {
   "cell_type": "code",
   "execution_count": 59,
   "metadata": {},
   "outputs": [],
   "source": [
    "results_mcmc = pickle.load( open(savename_mcmc, \"rb\" ) )"
   ]
  },
  {
   "cell_type": "markdown",
   "metadata": {},
   "source": [
    "#### Printing value function and policy"
   ]
  },
  {
   "cell_type": "code",
   "execution_count": 61,
   "metadata": {},
   "outputs": [
    {
     "data": {
      "text/plain": [
       "array([[ -1.6666,   0.489 ,   2.6731,   2.9482],\n",
       "       [ -2.1152,  -2.3382,  -0.4238,   2.3622],\n",
       "       [ -4.8369,  -7.5794, -10.2358,  -4.8561]])"
      ]
     },
     "execution_count": 61,
     "metadata": {},
     "output_type": "execute_result"
    }
   ],
   "source": [
    "# display value function\n",
    "alpha_idx=np.where(alpha_set==alpha0)[0][0]\n",
    "t = 0\n",
    "V = results['V_CVaR'][core_states,alpha_idx,t]\n",
    "V.reshape(task.maze.shape)"
   ]
  },
  {
   "cell_type": "code",
   "execution_count": 63,
   "metadata": {},
   "outputs": [
    {
     "data": {
      "text/plain": [
       "array([[1., 1., 1., 1.],\n",
       "       [0., 0., 1., 1.],\n",
       "       [0., 0., 0., 1.]])"
      ]
     },
     "execution_count": 63,
     "metadata": {},
     "output_type": "execute_result"
    }
   ],
   "source": [
    "# display optimal policy\n",
    "Pol = results['pi'][core_states,:,alpha_idx,t]\n",
    "Pol[:,1].reshape(task.maze.shape)"
   ]
  },
  {
   "cell_type": "markdown",
   "metadata": {},
   "source": [
    "#### Figure 6: Plotting policy"
   ]
  },
  {
   "cell_type": "code",
   "execution_count": 64,
   "metadata": {},
   "outputs": [
    {
     "name": "stderr",
     "output_type": "stream",
     "text": [
      "/kyb/agpd/cgagne/CVaR_TwoStep/twosteps_neurips2021/gridworld_simulations/notebooks/../code/plotting.py:15: VisibleDeprecationWarning: Creating an ndarray from ragged nested sequences (which is a list-or-tuple of lists-or-tuples-or ndarrays with different lengths or shapes) is deprecated. If you meant to do this, you must specify 'dtype=object' when creating the ndarray.\n",
      "  color_set = np.array([sns.color_palette()[3],'k'])\n"
     ]
    },
    {
     "data": {
      "image/png": "[encoded data removed]",
      "text/plain": [
       "<Figure size 1200x800 with 1 Axes>"
      ]
     },
     "metadata": {},
     "output_type": "display_data"
    }
   ],
   "source": [
    "plot_policy(task,V,Pol,core_states,Alpha=None,asym_color=True)"
   ]
  },
  {
   "cell_type": "markdown",
   "metadata": {},
   "source": [
    "### nCVaR"
   ]
  },
  {
   "cell_type": "code",
   "execution_count": 27,
   "metadata": {},
   "outputs": [],
   "source": [
    "# starting alpha \n",
    "alpha0 =  0.18329807"
   ]
  },
  {
   "cell_type": "markdown",
   "metadata": {},
   "source": [
    "#### Calculate Optimal Policy"
   ]
  },
  {
   "cell_type": "code",
   "execution_count": 28,
   "metadata": {
    "scrolled": true
   },
   "outputs": [
    {
     "name": "stdout",
     "output_type": "stream",
     "text": [
      "t=39\n",
      "t=38\n",
      "t=37\n",
      "t=36\n",
      "t=35\n",
      "t=34\n",
      "t=33\n",
      "t=32\n",
      "t=31\n",
      "t=30\n",
      "t=29\n",
      "t=28\n",
      "t=27\n",
      "t=26\n",
      "t=25\n",
      "t=24\n",
      "t=23\n",
      "t=22\n",
      "t=21\n",
      "t=20\n",
      "t=19\n",
      "t=18\n",
      "t=17\n",
      "t=16\n",
      "t=15\n",
      "t=14\n",
      "t=13\n",
      "t=12\n",
      "t=11\n",
      "t=10\n",
      "t=9\n",
      "t=8\n",
      "t=7\n",
      "t=6\n",
      "t=5\n",
      "t=4\n",
      "t=3\n",
      "t=2\n",
      "t=1\n",
      "t=0\n"
     ]
    }
   ],
   "source": [
    "task = Task_GridWorld()\n",
    "\n",
    "results = CVaR_DP(task,\n",
    "                    T=T,\n",
    "                    alpha_set = alpha_set,\n",
    "                    alpha0=alpha0,\n",
    "                    cvar_type='nCVaR',\n",
    "                    parallel=True)"
   ]
  },
  {
   "cell_type": "markdown",
   "metadata": {},
   "source": [
    "#### Filename"
   ]
  },
  {
   "cell_type": "code",
   "execution_count": 29,
   "metadata": {},
   "outputs": [
    {
     "name": "stdout",
     "output_type": "stream",
     "text": [
      "../results/task_gridworld_nCVaR_T=40_21_alphaset.p\n"
     ]
    }
   ],
   "source": [
    "savename= '../results/task_gridworld_nCVaR_T='+str(T)+'_21_alphaset.p'\n",
    "print(savename)"
   ]
  },
  {
   "cell_type": "markdown",
   "metadata": {},
   "source": [
    "#### Remove distortion weights to save space"
   ]
  },
  {
   "cell_type": "code",
   "execution_count": 30,
   "metadata": {},
   "outputs": [],
   "source": [
    "results.pop('Xis');"
   ]
  },
  {
   "cell_type": "markdown",
   "metadata": {},
   "source": [
    "#### Save"
   ]
  },
  {
   "cell_type": "code",
   "execution_count": 31,
   "metadata": {},
   "outputs": [],
   "source": [
    "pickle.dump(results, \n",
    "            open(savename, \"wb\" ) )"
   ]
  },
  {
   "cell_type": "markdown",
   "metadata": {},
   "source": [
    "#### Load"
   ]
  },
  {
   "cell_type": "code",
   "execution_count": 32,
   "metadata": {},
   "outputs": [],
   "source": [
    "results = pickle.load( open(savename, \"rb\" ) )"
   ]
  },
  {
   "cell_type": "markdown",
   "metadata": {},
   "source": [
    "#### Sample Trajectories from Optimal Policy"
   ]
  },
  {
   "cell_type": "code",
   "execution_count": 33,
   "metadata": {},
   "outputs": [
    {
     "name": "stdout",
     "output_type": "stream",
     "text": [
      "0.18329807\n"
     ]
    }
   ],
   "source": [
    "s0 = 0\n",
    "Nsims=20000\n",
    "Nsims=5000\n",
    "\n",
    "# get alpha indicator \n",
    "alpha0_i = np.where(alpha_set==alpha0)[0][0]\n",
    "print(alpha_set[alpha0_i])\n",
    "\n",
    "# run the MCMC for the changing policy \n",
    "results_mcmc = run_simulation(task,\n",
    "                               results['pi'].copy(),  # must be states x actions x alphas x time-steps\n",
    "                               T=T,\n",
    "                               Nsims = Nsims,\n",
    "                               s0 = s0,\n",
    "                               alpha_i0= alpha0_i,\n",
    "                               alpha_set = alpha_set,\n",
    "                               Xis=None,\n",
    "                               adjust_alpha=False)  "
   ]
  },
  {
   "cell_type": "markdown",
   "metadata": {},
   "source": [
    "#### Save Trajectories"
   ]
  },
  {
   "cell_type": "code",
   "execution_count": 34,
   "metadata": {},
   "outputs": [
    {
     "name": "stdout",
     "output_type": "stream",
     "text": [
      "../results/task_gridworld_nCVaR_T=40_21_alphaset_mcmc.p\n"
     ]
    }
   ],
   "source": [
    "savename_mcmc = savename.replace('.p','_mcmc.p')\n",
    "print(savename_mcmc)"
   ]
  },
  {
   "cell_type": "code",
   "execution_count": 35,
   "metadata": {},
   "outputs": [],
   "source": [
    "# save \n",
    "pickle.dump(results_mcmc, \n",
    "            open(savename_mcmc, \"wb\" ) )"
   ]
  },
  {
   "cell_type": "markdown",
   "metadata": {},
   "source": [
    "#### Load Trajectories"
   ]
  },
  {
   "cell_type": "code",
   "execution_count": 36,
   "metadata": {},
   "outputs": [],
   "source": [
    "results_mcmc = pickle.load( open(savename_mcmc, \"rb\" ) )"
   ]
  },
  {
   "cell_type": "code",
   "execution_count": 37,
   "metadata": {},
   "outputs": [
    {
     "data": {
      "text/plain": [
       "array([5000,  205, 4802, 4993, 5000, 5000, 5000, 5000, 5000, 5000, 5000,\n",
       "       5000, 5000, 5000, 5000, 5000, 5000, 5000, 5000, 5000, 5000, 5000,\n",
       "       5000, 5000, 5000, 5000, 5000, 5000, 5000, 5000, 5000, 5000, 5000,\n",
       "       5000, 5000, 5000, 5000, 5000, 5000, 5000])"
      ]
     },
     "execution_count": 37,
     "metadata": {},
     "output_type": "execute_result"
    }
   ],
   "source": [
    "np.sum(np.logical_and(np.logical_and(results_mcmc['states']!=12,\n",
    "                      results_mcmc['states']!=13),results_mcmc['states']!=14),axis=0)"
   ]
  },
  {
   "cell_type": "markdown",
   "metadata": {},
   "source": [
    "#### Printing value function and policy"
   ]
  },
  {
   "cell_type": "code",
   "execution_count": 38,
   "metadata": {},
   "outputs": [
    {
     "data": {
      "text/plain": [
       "array([[-2.1351, -2.091 , -0.9323,  1.5035],\n",
       "       [-2.6191, -3.5871, -4.0774, -0.4288],\n",
       "       [-4.8369, -7.0547, -8.7886, -4.8561]])"
      ]
     },
     "execution_count": 38,
     "metadata": {},
     "output_type": "execute_result"
    }
   ],
   "source": [
    "# display value function \n",
    "alpha_idx=np.where(alpha_set==alpha0)[0][0]\n",
    "t = 0\n",
    "V = results['V_CVaR'][core_states,alpha_idx,t]\n",
    "V.reshape(task.maze.shape)"
   ]
  },
  {
   "cell_type": "code",
   "execution_count": 39,
   "metadata": {},
   "outputs": [
    {
     "data": {
      "text/plain": [
       "array([[0., 1., 1., 1.],\n",
       "       [0., 0., 1., 1.],\n",
       "       [0., 0., 0., 1.]])"
      ]
     },
     "execution_count": 39,
     "metadata": {},
     "output_type": "execute_result"
    }
   ],
   "source": [
    "# display optimal policy\n",
    "Pol = results['pi'][core_states,:,alpha_idx,t]\n",
    "Pol[:,1].reshape(task.maze.shape)"
   ]
  },
  {
   "cell_type": "markdown",
   "metadata": {},
   "source": [
    "#### Figure 6: plotting policy"
   ]
  },
  {
   "cell_type": "code",
   "execution_count": 40,
   "metadata": {},
   "outputs": [
    {
     "name": "stderr",
     "output_type": "stream",
     "text": [
      "/kyb/agpd/cgagne/CVaR_TwoStep/twosteps_neurips2021/gridworld_simulations/notebooks/../code/plotting.py:15: VisibleDeprecationWarning: Creating an ndarray from ragged nested sequences (which is a list-or-tuple of lists-or-tuples-or ndarrays with different lengths or shapes) is deprecated. If you meant to do this, you must specify 'dtype=object' when creating the ndarray.\n",
      "  color_set = np.array([sns.color_palette()[3],'k'])\n"
     ]
    },
    {
     "data": {
      "image/png": "[encoded data removed]",
      "text/plain": [
       "<Figure size 1200x800 with 1 Axes>"
      ]
     },
     "metadata": {},
     "output_type": "display_data"
    }
   ],
   "source": [
    "plot_policy(task,V,Pol,core_states,Alpha=None,asym_color=True)"
   ]
  },
  {
   "cell_type": "code",
   "execution_count": null,
   "metadata": {},
   "outputs": [],
   "source": []
  }
 ],
 "metadata": {
  "kernelspec": {
   "display_name": "Python 3 (ipykernel)",
   "language": "python",
   "name": "python3"
  },
  "language_info": {
   "codemirror_mode": {
    "name": "ipython",
    "version": 3
   },
   "file_extension": ".py",
   "mimetype": "text/x-python",
   "name": "python",
   "nbconvert_exporter": "python",
   "pygments_lexer": "ipython3",
   "version": "3.9.7"
  },
  "toc": {
   "base_numbering": 1,
   "nav_menu": {},
   "number_sections": true,
   "sideBar": true,
   "skip_h1_title": false,
   "title_cell": "Table of Contents",
   "title_sidebar": "Contents",
   "toc_cell": false,
   "toc_position": {
    "height": "calc(100% - 180px)",
    "left": "10px",
    "top": "150px",
    "width": "373.333px"
   },
   "toc_section_display": true,
   "toc_window_display": true
  }
 },
 "nbformat": 4,
 "nbformat_minor": 4
}
